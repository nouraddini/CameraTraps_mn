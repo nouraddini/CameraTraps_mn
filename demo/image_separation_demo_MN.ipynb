{
 "cells": [
  {
   "attachments": {},
   "cell_type": "markdown",
   "id": "51f61853-8cac-48e3-9e7a-5b8ee1559377",
   "metadata": {},
   "source": [
    "# Image Detection Demo with PytorchWildlife\n",
    "\n",
    "This tutorial guides you on how to use PyTorchWildlife to separate positive and negative animal detections. We will go through the process of setting up the environment, defining the detection model, as well as performing inference and saving the results in different ways.\n",
    "\n",
    "## Prerequisites\n",
    "Install PytorchWildlife running the following commands:\n",
    "```bash\n",
    "conda create -n pytorch_wildlife python=3.8 -y\n",
    "conda activate pytorch_wildlife\n",
    "pip install PytorchWildlife\n",
    "```\n",
    "Also, make sure you have a CUDA-capable GPU if you intend to run the model on a GPU. This notebook can also run on CPU.\n",
    "\n",
    "## Importing libraries\n",
    "First, we'll start by importing the necessary libraries and modules."
   ]
  },
  {
   "cell_type": "code",
   "execution_count": 8,
   "id": "63e72a33",
   "metadata": {},
   "outputs": [],
   "source": [
    "import sys\n",
    "import os\n",
    "sys.path.insert(0, os.path.abspath(os.path.join(os.getcwd(), \"..\")))"
   ]
  },
  {
   "cell_type": "code",
   "execution_count": 9,
   "id": "c44e7713",
   "metadata": {},
   "outputs": [],
   "source": [
    "import torch\n",
    "from PytorchWildlife.models import detection as pw_detection\n",
    "from PytorchWildlife import utils as pw_utils"
   ]
  },
  {
   "cell_type": "markdown",
   "id": "6abd07b5",
   "metadata": {},
   "source": [
    "## Model Initialization\n",
    "We will initialize the MegaDetectorV5 model for image detection. This model is designed for detecting animals in images."
   ]
  },
  {
   "cell_type": "code",
   "execution_count": 10,
   "id": "eb25db43",
   "metadata": {},
   "outputs": [
    {
     "name": "stderr",
     "output_type": "stream",
     "text": [
      "Fusing layers... \n",
      "Fusing layers... \n",
      "Model summary: 733 layers, 140054656 parameters, 0 gradients, 208.8 GFLOPs\n",
      "Model summary: 733 layers, 140054656 parameters, 0 gradients, 208.8 GFLOPs\n"
     ]
    }
   ],
   "source": [
    "# Setting the device to use for computations ('cuda' indicates GPU)\n",
    "DEVICE = \"cuda\" if torch.cuda.is_available() else \"cpu\"\n",
    "if DEVICE == \"cuda\":\n",
    "    torch.cuda.set_device(0)\n",
    "    \n",
    "# Initializing the MegaDetectorV6 model for image detection\n",
    "#detection_model = pw_detection.MegaDetectorV6(device=DEVICE, pretrained=True, version=\"yolov9c\")\n",
    "\n",
    "# Uncomment the following line to use MegaDetectorV5 instead of MegaDetectorV6\n",
    "detection_model = pw_detection.MegaDetectorV5(device=DEVICE, pretrained=True, version=\"a\")\n"
   ]
  },
  {
   "cell_type": "markdown",
   "id": "c3cfe3fd",
   "metadata": {},
   "source": [
    "## Variable definition\n",
    "In order to process the batch detection, we will define an input directory where the images are stored, a confidence threshold and an output directory to copy the positive and negative images into distinctive folders. If you want to follow this tutorial with your own data, modify the following variables."
   ]
  },
  {
   "cell_type": "code",
   "execution_count": 12,
   "id": "735a3f71",
   "metadata": {},
   "outputs": [],
   "source": [
    "#tgt_folder_path = os.path.join(\".\",\"demo_data\",\"imgs\")\n",
    "tgt_folder_path = \"/media/mo/nvme0n1/PW_MDv5_v6_test_HG_input/Q16\"\n",
    "\n",
    "#output_path = \"folder_separation\"\n",
    "output_path = \"/media/mo/nvme0n1/PW_MDv5a_test_HG_separated_subfolder\"\n",
    "#output_path = \"/media/mo/nvme0n1/MDv5b_test_HG_separated\"\n",
    "\n",
    "#output_path = \"/media/mo/nvme0n1/MDv6_test_HG_separated\"\n",
    "#output_path = \"/media/mo/nvme0n1/MDv6_test_HG_separated_subfolder\"\n",
    "threshold = 0.1 #threshold = 0.1\n",
    "\n",
    "\n"
   ]
  },
  {
   "cell_type": "markdown",
   "id": "2e23329c",
   "metadata": {},
   "source": [
    "## Batch Image Detection\n",
    "Next, we'll demonstrate how to process multiple images in batches. This is useful when you have a large number of images and want to process them efficiently."
   ]
  },
  {
   "cell_type": "code",
   "execution_count": 14,
   "id": "b8d22647",
   "metadata": {},
   "outputs": [],
   "source": [
    "import torch\n",
    "torch.cuda.empty_cache()"
   ]
  },
  {
   "cell_type": "code",
   "execution_count": 15,
   "id": "561eff0c",
   "metadata": {},
   "outputs": [
    {
     "name": "stderr",
     "output_type": "stream",
     "text": [
      "100%|██████████| 1289/1289 [05:02<00:00,  4.25it/s]\n"
     ]
    }
   ],
   "source": [
    "results = detection_model.batch_image_detection(tgt_folder_path, batch_size=5) #default batch_size=16, highVRAM,failed= 350, v5a= 400, v6= "
   ]
  },
  {
   "cell_type": "markdown",
   "id": "bb41830b",
   "metadata": {},
   "source": [
    "## Separate positive and negative detections\n",
    "PytorchWildlife allows to copy the files from your original folder to a new directory containing the \"Animal\" and \"No-animal\" subdirectories. A detection is considered positive if the prediction confidence is higher than the threshold"
   ]
  },
  {
   "cell_type": "code",
   "execution_count": 7,
   "id": "f63310ab",
   "metadata": {},
   "outputs": [
    {
     "ename": "SameFileError",
     "evalue": "'/media/mo/nvme0n1/MDv5_v6_test_HG/Q18/CAM141/20230725/100_BTCF/IMG_0001.JPG' and '/media/mo/nvme0n1/MDv5_v6_test_HG/Q18/CAM141/20230725/100_BTCF/IMG_0001.JPG' are the same file",
     "output_type": "error",
     "traceback": [
      "\u001b[0;31m---------------------------------------------------------------------------\u001b[0m",
      "\u001b[0;31mSameFileError\u001b[0m                             Traceback (most recent call last)",
      "Cell \u001b[0;32mIn[7], line 9\u001b[0m\n\u001b[1;32m      3\u001b[0m pw_utils\u001b[38;5;241m.\u001b[39msave_detection_json(results, json_file,\n\u001b[1;32m      4\u001b[0m                              categories\u001b[38;5;241m=\u001b[39mdetection_model\u001b[38;5;241m.\u001b[39mCLASS_NAMES,\n\u001b[1;32m      5\u001b[0m                              exclude_category_ids\u001b[38;5;241m=\u001b[39m[], \u001b[38;5;66;03m# Category IDs can be found in the definition of each model.\u001b[39;00m\n\u001b[1;32m      6\u001b[0m                              exclude_file_path\u001b[38;5;241m=\u001b[39m\u001b[38;5;28;01mNone\u001b[39;00m) \u001b[38;5;66;03m#exclude_file_path=tgt_folder_path)\u001b[39;00m\n\u001b[1;32m      8\u001b[0m \u001b[38;5;66;03m# Separate the positive and negative detections through file copying:\u001b[39;00m\n\u001b[0;32m----> 9\u001b[0m \u001b[43mpw_utils\u001b[49m\u001b[38;5;241;43m.\u001b[39;49m\u001b[43mdetection_folder_separation\u001b[49m\u001b[43m(\u001b[49m\u001b[43mjson_file\u001b[49m\u001b[43m,\u001b[49m\u001b[43m \u001b[49m\u001b[43mtgt_folder_path\u001b[49m\u001b[43m,\u001b[49m\u001b[43m \u001b[49m\u001b[43moutput_path\u001b[49m\u001b[43m,\u001b[49m\u001b[43m \u001b[49m\u001b[43mthreshold\u001b[49m\u001b[43m)\u001b[49m\n",
      "File \u001b[0;32m~/CameraTraps/PytorchWildlife/utils/post_process.py:491\u001b[0m, in \u001b[0;36mdetection_folder_separation\u001b[0;34m(json_file, img_path, destination_path, confidence_threshold)\u001b[0m\n\u001b[1;32m    488\u001b[0m     os\u001b[38;5;241m.\u001b[39mmakedirs(os\u001b[38;5;241m.\u001b[39mpath\u001b[38;5;241m.\u001b[39mdirname(dest_file_path), exist_ok\u001b[38;5;241m=\u001b[39m\u001b[38;5;28;01mTrue\u001b[39;00m)\n\u001b[1;32m    490\u001b[0m     \u001b[38;5;66;03m# (3) Copy the file to the target folder (preserving structure)\u001b[39;00m\n\u001b[0;32m--> 491\u001b[0m     \u001b[43mshutil\u001b[49m\u001b[38;5;241;43m.\u001b[39;49m\u001b[43mcopy\u001b[49m\u001b[43m(\u001b[49m\u001b[43msrc_file_path\u001b[49m\u001b[43m,\u001b[49m\u001b[43m \u001b[49m\u001b[43mdest_file_path\u001b[49m\u001b[43m)\u001b[49m\n\u001b[1;32m    492\u001b[0m     \u001b[38;5;66;03m# ----------------------------------------------------------------------\u001b[39;00m\n\u001b[1;32m    495\u001b[0m \u001b[38;5;28;01mreturn\u001b[39;00m \u001b[38;5;124m\"\u001b[39m\u001b[38;5;132;01m{}\u001b[39;00m\u001b[38;5;124m files were successfully separated\u001b[39m\u001b[38;5;124m\"\u001b[39m\u001b[38;5;241m.\u001b[39mformat(i)\n",
      "File \u001b[0;32m~/anaconda3/envs/pytorch-wildlife/lib/python3.8/shutil.py:418\u001b[0m, in \u001b[0;36mcopy\u001b[0;34m(src, dst, follow_symlinks)\u001b[0m\n\u001b[1;32m    416\u001b[0m \u001b[38;5;28;01mif\u001b[39;00m os\u001b[38;5;241m.\u001b[39mpath\u001b[38;5;241m.\u001b[39misdir(dst):\n\u001b[1;32m    417\u001b[0m     dst \u001b[38;5;241m=\u001b[39m os\u001b[38;5;241m.\u001b[39mpath\u001b[38;5;241m.\u001b[39mjoin(dst, os\u001b[38;5;241m.\u001b[39mpath\u001b[38;5;241m.\u001b[39mbasename(src))\n\u001b[0;32m--> 418\u001b[0m \u001b[43mcopyfile\u001b[49m\u001b[43m(\u001b[49m\u001b[43msrc\u001b[49m\u001b[43m,\u001b[49m\u001b[43m \u001b[49m\u001b[43mdst\u001b[49m\u001b[43m,\u001b[49m\u001b[43m \u001b[49m\u001b[43mfollow_symlinks\u001b[49m\u001b[38;5;241;43m=\u001b[39;49m\u001b[43mfollow_symlinks\u001b[49m\u001b[43m)\u001b[49m\n\u001b[1;32m    419\u001b[0m copymode(src, dst, follow_symlinks\u001b[38;5;241m=\u001b[39mfollow_symlinks)\n\u001b[1;32m    420\u001b[0m \u001b[38;5;28;01mreturn\u001b[39;00m dst\n",
      "File \u001b[0;32m~/anaconda3/envs/pytorch-wildlife/lib/python3.8/shutil.py:244\u001b[0m, in \u001b[0;36mcopyfile\u001b[0;34m(src, dst, follow_symlinks)\u001b[0m\n\u001b[1;32m    241\u001b[0m sys\u001b[38;5;241m.\u001b[39maudit(\u001b[38;5;124m\"\u001b[39m\u001b[38;5;124mshutil.copyfile\u001b[39m\u001b[38;5;124m\"\u001b[39m, src, dst)\n\u001b[1;32m    243\u001b[0m \u001b[38;5;28;01mif\u001b[39;00m _samefile(src, dst):\n\u001b[0;32m--> 244\u001b[0m     \u001b[38;5;28;01mraise\u001b[39;00m SameFileError(\u001b[38;5;124m\"\u001b[39m\u001b[38;5;132;01m{!r}\u001b[39;00m\u001b[38;5;124m and \u001b[39m\u001b[38;5;132;01m{!r}\u001b[39;00m\u001b[38;5;124m are the same file\u001b[39m\u001b[38;5;124m\"\u001b[39m\u001b[38;5;241m.\u001b[39mformat(src, dst))\n\u001b[1;32m    246\u001b[0m file_size \u001b[38;5;241m=\u001b[39m \u001b[38;5;241m0\u001b[39m\n\u001b[1;32m    247\u001b[0m \u001b[38;5;28;01mfor\u001b[39;00m i, fn \u001b[38;5;129;01min\u001b[39;00m \u001b[38;5;28menumerate\u001b[39m([src, dst]):\n",
      "\u001b[0;31mSameFileError\u001b[0m: '/media/mo/nvme0n1/MDv5_v6_test_HG/Q18/CAM141/20230725/100_BTCF/IMG_0001.JPG' and '/media/mo/nvme0n1/MDv5_v6_test_HG/Q18/CAM141/20230725/100_BTCF/IMG_0001.JPG' are the same file"
     ]
    }
   ],
   "source": [
    "os.makedirs(output_path, exist_ok=True)\n",
    "json_file = os.path.join(output_path, \"detection_results.json\")\n",
    "pw_utils.save_detection_json(results, json_file,\n",
    "                             categories=detection_model.CLASS_NAMES,\n",
    "                             exclude_category_ids=[], # Category IDs can be found in the definition of each model.\n",
    "                             exclude_file_path=None) #exclude_file_path=tgt_folder_path)\n",
    "\n",
    "# Separate the positive and negative detections through file copying:\n",
    "pw_utils.detection_folder_separation(json_file, tgt_folder_path, output_path, threshold)\n",
    "\n"
   ]
  },
  {
   "cell_type": "code",
   "execution_count": 15,
   "id": "a17c3f17",
   "metadata": {},
   "outputs": [
    {
     "data": {
      "text/plain": [
       "[{'img_id': '/media/mo/nvme0n1/MDv5_v6_test_HG/Q18/CAM141/20230725/100_BTCF/IMG_0001.JPG',\n",
       "  'detections': Detections(xyxy=array([[       1329,         471,        1456,         585]], dtype=float32), mask=None, confidence=array([    0.26743], dtype=float32), class_id=array([0]), tracker_id=None, data={}),\n",
       "  'labels': ['animal 0.27'],\n",
       "  'normalized_coords': [[0.6921875,\n",
       "    0.4361111111111111,\n",
       "    0.7583333333333333,\n",
       "    0.5416666666666666]]}]"
      ]
     },
     "execution_count": 15,
     "metadata": {},
     "output_type": "execute_result"
    }
   ],
   "source": [
    "#type of the json_file, what is it?\n",
    "type(results)\n",
    "#head of the results\n",
    "results[0:1]\n",
    "\n",
    "\n",
    "    \n"
   ]
  },
  {
   "cell_type": "code",
   "execution_count": null,
   "id": "03dae450",
   "metadata": {},
   "outputs": [],
   "source": []
  },
  {
   "cell_type": "markdown",
   "id": "a4ee1d7b",
   "metadata": {},
   "source": [
    "### Copyright (c) Microsoft Corporation. All rights reserved.\n",
    "### Licensed under the MIT License."
   ]
  }
 ],
 "metadata": {
  "kernelspec": {
   "display_name": "pytorch-wildlife",
   "language": "python",
   "name": "python3"
  },
  "language_info": {
   "codemirror_mode": {
    "name": "ipython",
    "version": 3
   },
   "file_extension": ".py",
   "mimetype": "text/x-python",
   "name": "python",
   "nbconvert_exporter": "python",
   "pygments_lexer": "ipython3",
   "version": "3.8.20"
  }
 },
 "nbformat": 4,
 "nbformat_minor": 5
}
