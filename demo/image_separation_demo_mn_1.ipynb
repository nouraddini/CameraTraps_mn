{
 "cells": [
  {
   "cell_type": "markdown",
   "id": "b739c0e2",
   "metadata": {},
   "source": [
    "# Image Detection Demo with PytorchWildlife"
   ]
  },
  {
   "cell_type": "markdown",
   "id": "1197e180",
   "metadata": {},
   "source": [
    "This tutorial guides you on how to use PyTorchWildlife to separate positive and negative animal detections. We will go through the process of setting up the environment, defining the detection model, as well as performing inference and saving the results in different ways.\n",
    "\n",
    "## Prerequisites\n",
    "Install PytorchWildlife running the following commands:\n",
    "```bash\n",
    "conda create -n pytorch_wildlife python=3.8 -y\n",
    "conda activate pytorch_wildlife\n",
    "pip install PytorchWildlife\n",
    "```\n",
    "Also, make sure you have a CUDA-capable GPU if you intend to run the model on a GPU. This notebook can also run on CPU.\n",
    "\n",
    "## Importing libraries\n",
    "First, we'll start by importing the necessary libraries and modules."
   ]
  },
  {
   "cell_type": "code",
   "execution_count": 1,
   "id": "c44e7713",
   "metadata": {},
   "outputs": [
    {
     "ename": "ModuleNotFoundError",
     "evalue": "No module named 'PytorchWildlife'",
     "output_type": "error",
     "traceback": [
      "\u001b[0;31m---------------------------------------------------------------------------\u001b[0m",
      "\u001b[0;31mModuleNotFoundError\u001b[0m                       Traceback (most recent call last)",
      "Cell \u001b[0;32mIn[1], line 3\u001b[0m\n\u001b[1;32m      1\u001b[0m \u001b[38;5;28;01mimport\u001b[39;00m \u001b[38;5;21;01mos\u001b[39;00m\n\u001b[1;32m      2\u001b[0m \u001b[38;5;28;01mimport\u001b[39;00m \u001b[38;5;21;01mtorch\u001b[39;00m\n\u001b[0;32m----> 3\u001b[0m \u001b[38;5;28;01mfrom\u001b[39;00m \u001b[38;5;21;01mPytorchWildlife\u001b[39;00m\u001b[38;5;21;01m.\u001b[39;00m\u001b[38;5;21;01mmodels\u001b[39;00m \u001b[38;5;28;01mimport\u001b[39;00m detection \u001b[38;5;28;01mas\u001b[39;00m pw_detection\n\u001b[1;32m      4\u001b[0m \u001b[38;5;28;01mfrom\u001b[39;00m \u001b[38;5;21;01mPytorchWildlife\u001b[39;00m \u001b[38;5;28;01mimport\u001b[39;00m utils \u001b[38;5;28;01mas\u001b[39;00m pw_utils\n",
      "\u001b[0;31mModuleNotFoundError\u001b[0m: No module named 'PytorchWildlife'"
     ]
    }
   ],
   "source": [
    "import os\n",
    "import torch\n",
    "from PytorchWildlife.models import detection as pw_detection\n",
    "from PytorchWildlife import utils as pw_utils"
   ]
  },
  {
   "cell_type": "markdown",
   "id": "6abd07b5",
   "metadata": {},
   "source": [
    "## Model Initialization\n",
    "We will initialize the MegaDetectorV5 model for image detection. This model is designed for detecting animals in images."
   ]
  },
  {
   "cell_type": "code",
   "execution_count": 50,
   "id": "eb25db43",
   "metadata": {},
   "outputs": [
    {
     "name": "stderr",
     "output_type": "stream",
     "text": [
      "Fusing layers... \n",
      "Fusing layers... \n",
      "Model summary: 733 layers, 140054656 parameters, 0 gradients, 208.8 GFLOPs\n",
      "Model summary: 733 layers, 140054656 parameters, 0 gradients, 208.8 GFLOPs\n"
     ]
    }
   ],
   "source": [
    "# Setting the device to use for computations ('cuda' indicates GPU)\n",
    "DEVICE = \"cuda\" if torch.cuda.is_available() else \"cpu\"\n",
    "if DEVICE == \"cuda\":\n",
    "    torch.cuda.set_device(0)\n",
    "    \n",
    "# Initializing the MegaDetectorV6 model for image detection\n",
    "#detection_model = pw_detection.MegaDetectorV6(device=DEVICE, pretrained=True, version=\"yolov9c\")\n",
    "\n",
    "# Uncomment the following line to use MegaDetectorV5 instead of MegaDetectorV6\n",
    "detection_model = pw_detection.MegaDetectorV5(device=DEVICE, pretrained=True, version=\"a\")\n"
   ]
  },
  {
   "cell_type": "markdown",
   "id": "c3cfe3fd",
   "metadata": {},
   "source": [
    "## Variable definition\n",
    "In order to process the batch detection, we will define an input directory where the images are stored, a confidence threshold and an output directory to copy the positive and negative images into distinctive folders. If you want to follow this tutorial with your own data, modify the following variables."
   ]
  },
  {
   "cell_type": "code",
   "execution_count": 51,
   "id": "735a3f71",
   "metadata": {},
   "outputs": [],
   "source": [
    "#tgt_folder_path = os.path.join(\".\",\"demo_data\",\"imgs\")\n",
    "#output_path = \"folder_separation\"\n",
    "#threshold = 0.2\n",
    "\n",
    "#tgt_folder_path = os.path.join(\".\",\"demo_data\",\"imgs\")\n",
    "tgt_folder_path = \"/media/mo/nvme0n1/PW_MDv5_v6_test_HG_input/Q16\"\n",
    "\n",
    "#output_path = \"folder_separation\"\n",
    "output_path = \"/media/mo/nvme0n1/PW_MDv5a_test_HG_separated_subfolder\"\n",
    "#output_path = \"/media/mo/nvme0n1/MDv5b_test_HG_separated\"\n",
    "\n",
    "#output_path = \"/media/mo/nvme0n1/MDv6_test_HG_separated\"\n",
    "#output_path = \"/media/mo/nvme0n1/MDv6_test_HG_separated_subfolder\"\n",
    "threshold = 0.1 #threshold = 0.2\n"
   ]
  },
  {
   "cell_type": "markdown",
   "id": "2e23329c",
   "metadata": {},
   "source": [
    "## Batch Image Detection\n",
    "Next, we'll demonstrate how to process multiple images in batches. This is useful when you have a large number of images and want to process them efficiently."
   ]
  },
  {
   "cell_type": "code",
   "execution_count": 52,
   "id": "561eff0c",
   "metadata": {},
   "outputs": [
    {
     "name": "stderr",
     "output_type": "stream",
     "text": [
      "100%|██████████| 531/531 [03:20<00:00,  2.65it/s]\n"
     ]
    }
   ],
   "source": [
    "results = detection_model.batch_image_detection(tgt_folder_path, batch_size=8) #default batch_size=16, highVRAM,failed= 350, v5a= 400, v6= "
   ]
  },
  {
   "cell_type": "markdown",
   "id": "bb41830b",
   "metadata": {},
   "source": [
    "## Separate positive and negative detections\n",
    "PytorchWildlife allows to copy the files from your original folder to a new directory containing the \"Animal\" and \"No-animal\" subdirectories. A detection is considered positive if the prediction confidence is higher than the threshold"
   ]
  },
  {
   "cell_type": "code",
   "execution_count": 54,
   "id": "f8b5d18a",
   "metadata": {},
   "outputs": [
    {
     "name": "stdout",
     "output_type": "stream",
     "text": [
      "['/home/mo/anaconda3/envs/pytorch-wildlife/lib/python38.zip', '/home/mo/anaconda3/envs/pytorch-wildlife/lib/python3.8', '/home/mo/anaconda3/envs/pytorch-wildlife/lib/python3.8/lib-dynload', '', '/home/mo/anaconda3/envs/pytorch-wildlife/lib/python3.8/site-packages', '/home/mo/anaconda3/envs/pytorch-wildlife/lib/python3.8/site-packages/yolov5']\n"
     ]
    }
   ],
   "source": [
    "import sys\n",
    "print(sys.path)\n"
   ]
  },
  {
   "cell_type": "code",
   "execution_count": 55,
   "id": "d8f53a36",
   "metadata": {},
   "outputs": [
    {
     "name": "stdout",
     "output_type": "stream",
     "text": [
      "/home/mo/anaconda3/envs/pytorch-wildlife/lib/python3.8/site-packages/PytorchWildlife/utils/__init__.py\n"
     ]
    }
   ],
   "source": [
    "import inspect\n",
    "print(inspect.getfile(pw_utils))"
   ]
  },
  {
   "cell_type": "code",
   "execution_count": 57,
   "id": "ba95c661",
   "metadata": {},
   "outputs": [
    {
     "name": "stdout",
     "output_type": "stream",
     "text": [
      "/home/mo/anaconda3/envs/pytorch-wildlife/bin/python\n",
      "['/home/mo/anaconda3/envs/pytorch-wildlife/lib/python38.zip', '/home/mo/anaconda3/envs/pytorch-wildlife/lib/python3.8', '/home/mo/anaconda3/envs/pytorch-wildlife/lib/python3.8/lib-dynload', '', '/home/mo/anaconda3/envs/pytorch-wildlife/lib/python3.8/site-packages', '/home/mo/anaconda3/envs/pytorch-wildlife/lib/python3.8/site-packages/yolov5']\n"
     ]
    }
   ],
   "source": [
    "import sys\n",
    "print(sys.executable)\n",
    "print(sys.path)\n"
   ]
  },
  {
   "cell_type": "markdown",
   "id": "8d834f60",
   "metadata": {},
   "source": [
    "MN"
   ]
  },
  {
   "cell_type": "code",
   "execution_count": 56,
   "id": "21740665",
   "metadata": {},
   "outputs": [
    {
     "name": "stdout",
     "output_type": "stream",
     "text": [
      "4225 files were successfully separated\n"
     ]
    }
   ],
   "source": [
    "# Define paths\n",
    "tgt_folder_path = \"/media/mo/nvme0n1/PW_MDv5_v6_test_HG_input/Q16\"\n",
    "output_path = \"/media/mo/nvme0n1/PW_MDv5a_test_HG_separated_subfolder\"\n",
    "threshold = 0.1\n",
    "\n",
    "# Ensure output directory exists\n",
    "os.makedirs(output_path, exist_ok=True)\n",
    "\n",
    "# Define JSON file path\n",
    "json_file = os.path.join(output_path, \"detection_results.json\")\n",
    "\n",
    "# Save detection results to JSON\n",
    "pw_utils.save_detection_json(\n",
    "    results, json_file,\n",
    "    categories=detection_model.CLASS_NAMES,\n",
    "    exclude_category_ids=[],\n",
    "    exclude_file_path=tgt_folder_path\n",
    ")\n",
    "\n",
    "# Separate the positive and negative detections\n",
    "result_message = pw_utils.detection_folder_separation(json_file, tgt_folder_path, output_path, threshold)\n",
    "print(result_message)"
   ]
  },
  {
   "cell_type": "markdown",
   "id": "e9f4b6de",
   "metadata": {},
   "source": [
    "original below"
   ]
  },
  {
   "cell_type": "code",
   "execution_count": 40,
   "id": "f63310ab",
   "metadata": {},
   "outputs": [
    {
     "data": {
      "text/plain": [
       "'4225 files were successfully separated'"
      ]
     },
     "execution_count": 40,
     "metadata": {},
     "output_type": "execute_result"
    }
   ],
   "source": [
    "os.makedirs(output_path, exist_ok=True)\n",
    "json_file = os.path.join(output_path, \"detection_results.json\")\n",
    "pw_utils.save_detection_json(results, json_file,\n",
    "                             categories=detection_model.CLASS_NAMES,\n",
    "                             exclude_category_ids=[], # Category IDs can be found in the definition of each model.\n",
    "                             exclude_file_path=tgt_folder_path)\n",
    "\n",
    "# Separate the positive and negative detections through file copying:\n",
    "pw_utils.detection_folder_separation(json_file, tgt_folder_path, output_path, threshold)"
   ]
  },
  {
   "cell_type": "markdown",
   "id": "a4ee1d7b",
   "metadata": {},
   "source": [
    "### Copyright (c) Microsoft Corporation. All rights reserved.\n",
    "### Licensed under the MIT License."
   ]
  }
 ],
 "metadata": {
  "kernelspec": {
   "display_name": "camtrapclass_ld",
   "language": "python",
   "name": "python3"
  },
  "language_info": {
   "codemirror_mode": {
    "name": "ipython",
    "version": 3
   },
   "file_extension": ".py",
   "mimetype": "text/x-python",
   "name": "python",
   "nbconvert_exporter": "python",
   "pygments_lexer": "ipython3",
   "version": "3.9.19"
  }
 },
 "nbformat": 4,
 "nbformat_minor": 5
}
